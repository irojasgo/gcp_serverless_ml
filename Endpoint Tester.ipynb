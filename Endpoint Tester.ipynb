{
 "cells": [
  {
   "cell_type": "code",
   "execution_count": 5,
   "metadata": {},
   "outputs": [
    {
     "data": {
      "text/plain": [
       "<Response [200]>"
      ]
     },
     "execution_count": 5,
     "metadata": {},
     "output_type": "execute_result"
    }
   ],
   "source": [
    "#We import the requests library\n",
    "import requests\n",
    "\n",
    "#Define some data to test with\n",
    "test_data = [0.665,0.469,4,-5.809,0.0280,0.230,0.0,0.2340,0.383]\n",
    "\n",
    "#Define the model's URL (this info if obtained from GCP's console)\n",
    "url = 'https://us-central1-up-cloud-computing-364502.cloudfunctions.net/Spotify-Predict'\n",
    "\n",
    "#And create a dictionary with the test data associated with the \"features\" key\n",
    "params = {\n",
    "    \"features\":test_data\n",
    "}\n",
    "\n",
    "#Query is sent to the endpoint\n",
    "results = requests.post(url=url, json=params)\n",
    "results"
   ]
  },
  {
   "cell_type": "code",
   "execution_count": 14,
   "metadata": {},
   "outputs": [
    {
     "data": {
      "text/plain": [
       "{'probability': 0.9774234712705926, 'tag': 'Not-Liked'}"
      ]
     },
     "execution_count": 14,
     "metadata": {},
     "output_type": "execute_result"
    }
   ],
   "source": [
    "#We get the results body\n",
    "results.json()"
   ]
  },
  {
   "cell_type": "code",
   "execution_count": 15,
   "metadata": {},
   "outputs": [
    {
     "name": "stdout",
     "output_type": "stream",
     "text": [
      "The tag of sent data is Not-Liked with a probability of 0.9774234712705926%\n"
     ]
    }
   ],
   "source": [
    "#And just print it nicely (:\n",
    "print(f\"The tag of sent data is {results.json()['tag']} with a probability of {results.json()['probability']}%\")"
   ]
  },
  {
   "cell_type": "code",
   "execution_count": null,
   "metadata": {},
   "outputs": [],
   "source": []
  }
 ],
 "metadata": {
  "kernelspec": {
   "display_name": "Python 3.9.1 64-bit",
   "language": "python",
   "name": "python3"
  },
  "language_info": {
   "codemirror_mode": {
    "name": "ipython",
    "version": 3
   },
   "file_extension": ".py",
   "mimetype": "text/x-python",
   "name": "python",
   "nbconvert_exporter": "python",
   "pygments_lexer": "ipython3",
   "version": "3.9.1"
  },
  "orig_nbformat": 4,
  "vscode": {
   "interpreter": {
    "hash": "fefe1bf480c11bf003fba226430f9cc6591c2a11b0f80c22005b6e46c2183a03"
   }
  }
 },
 "nbformat": 4,
 "nbformat_minor": 2
}
