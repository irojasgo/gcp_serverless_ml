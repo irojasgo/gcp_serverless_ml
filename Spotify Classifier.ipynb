{
 "cells": [
  {
   "cell_type": "markdown",
   "metadata": {},
   "source": [
    "# Project 2: Serverless Machine Learning Model Deployment | Google Cloud\n",
    "- Trained a machine learning model and pipelined all preprocessing steps\n",
    "- Encapsulated the model into a binary file\n",
    "- Deployed the model as an endpoint using GCP's cloud functions\n",
    "- Tested the model submitting requests from different endpoints"
   ]
  },
  {
   "cell_type": "code",
   "execution_count": 17,
   "metadata": {},
   "outputs": [
    {
     "data": {
      "text/html": [
       "<div>\n",
       "<style scoped>\n",
       "    .dataframe tbody tr th:only-of-type {\n",
       "        vertical-align: middle;\n",
       "    }\n",
       "\n",
       "    .dataframe tbody tr th {\n",
       "        vertical-align: top;\n",
       "    }\n",
       "\n",
       "    .dataframe thead th {\n",
       "        text-align: right;\n",
       "    }\n",
       "</style>\n",
       "<table border=\"1\" class=\"dataframe\">\n",
       "  <thead>\n",
       "    <tr style=\"text-align: right;\">\n",
       "      <th></th>\n",
       "      <th>cancion</th>\n",
       "      <th>artista</th>\n",
       "      <th>playlist</th>\n",
       "      <th>track_id</th>\n",
       "      <th>danceability</th>\n",
       "      <th>energy</th>\n",
       "      <th>key</th>\n",
       "      <th>loudness</th>\n",
       "      <th>speechiness</th>\n",
       "      <th>acousticness</th>\n",
       "      <th>instrumentalness</th>\n",
       "      <th>liveness</th>\n",
       "      <th>valence</th>\n",
       "      <th>Lista Rep</th>\n",
       "      <th>liked</th>\n",
       "    </tr>\n",
       "  </thead>\n",
       "  <tbody>\n",
       "    <tr>\n",
       "      <th>988</th>\n",
       "      <td>No Es Por Acá</td>\n",
       "      <td>Carin Leon</td>\n",
       "      <td>3IyNJEsknaSFoUIn8qf1Lr</td>\n",
       "      <td>3bvJftZKZe5QKz433NczyV</td>\n",
       "      <td>0.746</td>\n",
       "      <td>0.370</td>\n",
       "      <td>2</td>\n",
       "      <td>-6.309</td>\n",
       "      <td>0.0306</td>\n",
       "      <td>0.456</td>\n",
       "      <td>0.0</td>\n",
       "      <td>0.1060</td>\n",
       "      <td>0.595</td>\n",
       "      <td>Banda 2022</td>\n",
       "      <td>0</td>\n",
       "    </tr>\n",
       "    <tr>\n",
       "      <th>989</th>\n",
       "      <td>Solo Un Dia (Ahora Te Amo)</td>\n",
       "      <td>Adan Romero</td>\n",
       "      <td>3IyNJEsknaSFoUIn8qf1Lr</td>\n",
       "      <td>51RcAoNIqe0G3284yxT8G0</td>\n",
       "      <td>0.692</td>\n",
       "      <td>0.377</td>\n",
       "      <td>5</td>\n",
       "      <td>-7.128</td>\n",
       "      <td>0.0497</td>\n",
       "      <td>0.522</td>\n",
       "      <td>0.0</td>\n",
       "      <td>0.0965</td>\n",
       "      <td>0.939</td>\n",
       "      <td>Banda 2022</td>\n",
       "      <td>0</td>\n",
       "    </tr>\n",
       "    <tr>\n",
       "      <th>990</th>\n",
       "      <td>La Buena y la Mala</td>\n",
       "      <td>Banda Tierra Sagrada</td>\n",
       "      <td>3IyNJEsknaSFoUIn8qf1Lr</td>\n",
       "      <td>4y0n8xKuEKE0J2sThzswhg</td>\n",
       "      <td>0.805</td>\n",
       "      <td>0.716</td>\n",
       "      <td>0</td>\n",
       "      <td>-4.498</td>\n",
       "      <td>0.0390</td>\n",
       "      <td>0.527</td>\n",
       "      <td>0.0</td>\n",
       "      <td>0.2470</td>\n",
       "      <td>0.905</td>\n",
       "      <td>Banda 2022</td>\n",
       "      <td>0</td>\n",
       "    </tr>\n",
       "    <tr>\n",
       "      <th>991</th>\n",
       "      <td>Que Te Vaya Bien</td>\n",
       "      <td>Julión Álvarez y su Norteño Banda</td>\n",
       "      <td>3IyNJEsknaSFoUIn8qf1Lr</td>\n",
       "      <td>1kJXYVVUu7o3B9gaJpoxjm</td>\n",
       "      <td>0.665</td>\n",
       "      <td>0.469</td>\n",
       "      <td>4</td>\n",
       "      <td>-5.809</td>\n",
       "      <td>0.0280</td>\n",
       "      <td>0.230</td>\n",
       "      <td>0.0</td>\n",
       "      <td>0.2340</td>\n",
       "      <td>0.383</td>\n",
       "      <td>Banda 2022</td>\n",
       "      <td>0</td>\n",
       "    </tr>\n",
       "    <tr>\n",
       "      <th>992</th>\n",
       "      <td>Dueño de Ti</td>\n",
       "      <td>Sergio Vega \"El Shaka\"</td>\n",
       "      <td>3IyNJEsknaSFoUIn8qf1Lr</td>\n",
       "      <td>7j9iuJvGg8Ve2O20CO8Oho</td>\n",
       "      <td>0.734</td>\n",
       "      <td>0.676</td>\n",
       "      <td>10</td>\n",
       "      <td>-0.007</td>\n",
       "      <td>0.0470</td>\n",
       "      <td>0.314</td>\n",
       "      <td>0.0</td>\n",
       "      <td>0.0646</td>\n",
       "      <td>0.774</td>\n",
       "      <td>Banda 2022</td>\n",
       "      <td>0</td>\n",
       "    </tr>\n",
       "  </tbody>\n",
       "</table>\n",
       "</div>"
      ],
      "text/plain": [
       "                        cancion                            artista  \\\n",
       "988               No Es Por Acá                         Carin Leon   \n",
       "989  Solo Un Dia (Ahora Te Amo)                        Adan Romero   \n",
       "990          La Buena y la Mala               Banda Tierra Sagrada   \n",
       "991            Que Te Vaya Bien  Julión Álvarez y su Norteño Banda   \n",
       "992                 Dueño de Ti             Sergio Vega \"El Shaka\"   \n",
       "\n",
       "                   playlist                track_id  danceability  energy  \\\n",
       "988  3IyNJEsknaSFoUIn8qf1Lr  3bvJftZKZe5QKz433NczyV         0.746   0.370   \n",
       "989  3IyNJEsknaSFoUIn8qf1Lr  51RcAoNIqe0G3284yxT8G0         0.692   0.377   \n",
       "990  3IyNJEsknaSFoUIn8qf1Lr  4y0n8xKuEKE0J2sThzswhg         0.805   0.716   \n",
       "991  3IyNJEsknaSFoUIn8qf1Lr  1kJXYVVUu7o3B9gaJpoxjm         0.665   0.469   \n",
       "992  3IyNJEsknaSFoUIn8qf1Lr  7j9iuJvGg8Ve2O20CO8Oho         0.734   0.676   \n",
       "\n",
       "     key  loudness  speechiness  acousticness  instrumentalness  liveness  \\\n",
       "988    2    -6.309       0.0306         0.456               0.0    0.1060   \n",
       "989    5    -7.128       0.0497         0.522               0.0    0.0965   \n",
       "990    0    -4.498       0.0390         0.527               0.0    0.2470   \n",
       "991    4    -5.809       0.0280         0.230               0.0    0.2340   \n",
       "992   10    -0.007       0.0470         0.314               0.0    0.0646   \n",
       "\n",
       "     valence   Lista Rep  liked  \n",
       "988    0.595  Banda 2022      0  \n",
       "989    0.939  Banda 2022      0  \n",
       "990    0.905  Banda 2022      0  \n",
       "991    0.383  Banda 2022      0  \n",
       "992    0.774  Banda 2022      0  "
      ]
     },
     "execution_count": 17,
     "metadata": {},
     "output_type": "execute_result"
    }
   ],
   "source": [
    "#First of all, the dataset to train the model is loaded\n",
    "import pandas as pd\n",
    "import seaborn as sns\n",
    "resulting_metrics = pd.DataFrame()\n",
    "df = pd.read_csv('SpotifyMexScored.csv')\n",
    "df.tail()"
   ]
  },
  {
   "cell_type": "code",
   "execution_count": 2,
   "metadata": {},
   "outputs": [],
   "source": [
    "#Preprocessing sklearn methods are called\n",
    "from sklearn.preprocessing import StandardScaler\n",
    "from sklearn.model_selection import train_test_split\n",
    "from sklearn.compose import ColumnTransformer\n",
    "\n",
    "#Feature and label columns are defined\n",
    "X = df[['danceability', 'energy',\n",
    "       'key', 'loudness', 'speechiness', 'acousticness', 'instrumentalness',\n",
    "       'liveness', 'valence']]\n",
    "y = df['liked']\n",
    "\n"
   ]
  },
  {
   "cell_type": "code",
   "execution_count": 3,
   "metadata": {},
   "outputs": [],
   "source": [
    "#Columns are then defined in the column transformer object\n",
    "numerical_columns = ['danceability', 'energy',\n",
    "       'key', 'loudness', 'speechiness', 'acousticness', 'instrumentalness',\n",
    "       'liveness', 'valence']\n",
    "transformations = [('numerical', StandardScaler(), numerical_columns)]\n",
    "column_transformer = ColumnTransformer(transformers=transformations,remainder='passthrough')"
   ]
  },
  {
   "cell_type": "code",
   "execution_count": 4,
   "metadata": {},
   "outputs": [],
   "source": [
    "#A gradient boosted tree method with 100 estimators is trained\n",
    "from sklearn.ensemble import GradientBoostingClassifier\n",
    "model = GradientBoostingClassifier(n_estimators=100)"
   ]
  },
  {
   "cell_type": "code",
   "execution_count": 7,
   "metadata": {},
   "outputs": [
    {
     "data": {
      "text/html": [
       "<style>#sk-container-id-1 {color: black;background-color: white;}#sk-container-id-1 pre{padding: 0;}#sk-container-id-1 div.sk-toggleable {background-color: white;}#sk-container-id-1 label.sk-toggleable__label {cursor: pointer;display: block;width: 100%;margin-bottom: 0;padding: 0.3em;box-sizing: border-box;text-align: center;}#sk-container-id-1 label.sk-toggleable__label-arrow:before {content: \"▸\";float: left;margin-right: 0.25em;color: #696969;}#sk-container-id-1 label.sk-toggleable__label-arrow:hover:before {color: black;}#sk-container-id-1 div.sk-estimator:hover label.sk-toggleable__label-arrow:before {color: black;}#sk-container-id-1 div.sk-toggleable__content {max-height: 0;max-width: 0;overflow: hidden;text-align: left;background-color: #f0f8ff;}#sk-container-id-1 div.sk-toggleable__content pre {margin: 0.2em;color: black;border-radius: 0.25em;background-color: #f0f8ff;}#sk-container-id-1 input.sk-toggleable__control:checked~div.sk-toggleable__content {max-height: 200px;max-width: 100%;overflow: auto;}#sk-container-id-1 input.sk-toggleable__control:checked~label.sk-toggleable__label-arrow:before {content: \"▾\";}#sk-container-id-1 div.sk-estimator input.sk-toggleable__control:checked~label.sk-toggleable__label {background-color: #d4ebff;}#sk-container-id-1 div.sk-label input.sk-toggleable__control:checked~label.sk-toggleable__label {background-color: #d4ebff;}#sk-container-id-1 input.sk-hidden--visually {border: 0;clip: rect(1px 1px 1px 1px);clip: rect(1px, 1px, 1px, 1px);height: 1px;margin: -1px;overflow: hidden;padding: 0;position: absolute;width: 1px;}#sk-container-id-1 div.sk-estimator {font-family: monospace;background-color: #f0f8ff;border: 1px dotted black;border-radius: 0.25em;box-sizing: border-box;margin-bottom: 0.5em;}#sk-container-id-1 div.sk-estimator:hover {background-color: #d4ebff;}#sk-container-id-1 div.sk-parallel-item::after {content: \"\";width: 100%;border-bottom: 1px solid gray;flex-grow: 1;}#sk-container-id-1 div.sk-label:hover label.sk-toggleable__label {background-color: #d4ebff;}#sk-container-id-1 div.sk-serial::before {content: \"\";position: absolute;border-left: 1px solid gray;box-sizing: border-box;top: 0;bottom: 0;left: 50%;z-index: 0;}#sk-container-id-1 div.sk-serial {display: flex;flex-direction: column;align-items: center;background-color: white;padding-right: 0.2em;padding-left: 0.2em;position: relative;}#sk-container-id-1 div.sk-item {position: relative;z-index: 1;}#sk-container-id-1 div.sk-parallel {display: flex;align-items: stretch;justify-content: center;background-color: white;position: relative;}#sk-container-id-1 div.sk-item::before, #sk-container-id-1 div.sk-parallel-item::before {content: \"\";position: absolute;border-left: 1px solid gray;box-sizing: border-box;top: 0;bottom: 0;left: 50%;z-index: -1;}#sk-container-id-1 div.sk-parallel-item {display: flex;flex-direction: column;z-index: 1;position: relative;background-color: white;}#sk-container-id-1 div.sk-parallel-item:first-child::after {align-self: flex-end;width: 50%;}#sk-container-id-1 div.sk-parallel-item:last-child::after {align-self: flex-start;width: 50%;}#sk-container-id-1 div.sk-parallel-item:only-child::after {width: 0;}#sk-container-id-1 div.sk-dashed-wrapped {border: 1px dashed gray;margin: 0 0.4em 0.5em 0.4em;box-sizing: border-box;padding-bottom: 0.4em;background-color: white;}#sk-container-id-1 div.sk-label label {font-family: monospace;font-weight: bold;display: inline-block;line-height: 1.2em;}#sk-container-id-1 div.sk-label-container {text-align: center;}#sk-container-id-1 div.sk-container {/* jupyter's `normalize.less` sets `[hidden] { display: none; }` but bootstrap.min.css set `[hidden] { display: none !important; }` so we also need the `!important` here to be able to override the default hidden behavior on the sphinx rendered scikit-learn.org. See: https://github.com/scikit-learn/scikit-learn/issues/21755 */display: inline-block !important;position: relative;}#sk-container-id-1 div.sk-text-repr-fallback {display: none;}</style><div id=\"sk-container-id-1\" class=\"sk-top-container\"><div class=\"sk-text-repr-fallback\"><pre>Pipeline(steps=[(&#x27;preprocessing&#x27;,\n",
       "                 ColumnTransformer(remainder=&#x27;passthrough&#x27;,\n",
       "                                   transformers=[(&#x27;numerical&#x27;, StandardScaler(),\n",
       "                                                  [&#x27;danceability&#x27;, &#x27;energy&#x27;,\n",
       "                                                   &#x27;key&#x27;, &#x27;loudness&#x27;,\n",
       "                                                   &#x27;speechiness&#x27;,\n",
       "                                                   &#x27;acousticness&#x27;,\n",
       "                                                   &#x27;instrumentalness&#x27;,\n",
       "                                                   &#x27;liveness&#x27;, &#x27;valence&#x27;])])),\n",
       "                (&#x27;model&#x27;, GradientBoostingClassifier())])</pre><b>In a Jupyter environment, please rerun this cell to show the HTML representation or trust the notebook. <br />On GitHub, the HTML representation is unable to render, please try loading this page with nbviewer.org.</b></div><div class=\"sk-container\" hidden><div class=\"sk-item sk-dashed-wrapped\"><div class=\"sk-label-container\"><div class=\"sk-label sk-toggleable\"><input class=\"sk-toggleable__control sk-hidden--visually\" id=\"sk-estimator-id-1\" type=\"checkbox\" ><label for=\"sk-estimator-id-1\" class=\"sk-toggleable__label sk-toggleable__label-arrow\">Pipeline</label><div class=\"sk-toggleable__content\"><pre>Pipeline(steps=[(&#x27;preprocessing&#x27;,\n",
       "                 ColumnTransformer(remainder=&#x27;passthrough&#x27;,\n",
       "                                   transformers=[(&#x27;numerical&#x27;, StandardScaler(),\n",
       "                                                  [&#x27;danceability&#x27;, &#x27;energy&#x27;,\n",
       "                                                   &#x27;key&#x27;, &#x27;loudness&#x27;,\n",
       "                                                   &#x27;speechiness&#x27;,\n",
       "                                                   &#x27;acousticness&#x27;,\n",
       "                                                   &#x27;instrumentalness&#x27;,\n",
       "                                                   &#x27;liveness&#x27;, &#x27;valence&#x27;])])),\n",
       "                (&#x27;model&#x27;, GradientBoostingClassifier())])</pre></div></div></div><div class=\"sk-serial\"><div class=\"sk-item sk-dashed-wrapped\"><div class=\"sk-label-container\"><div class=\"sk-label sk-toggleable\"><input class=\"sk-toggleable__control sk-hidden--visually\" id=\"sk-estimator-id-2\" type=\"checkbox\" ><label for=\"sk-estimator-id-2\" class=\"sk-toggleable__label sk-toggleable__label-arrow\">preprocessing: ColumnTransformer</label><div class=\"sk-toggleable__content\"><pre>ColumnTransformer(remainder=&#x27;passthrough&#x27;,\n",
       "                  transformers=[(&#x27;numerical&#x27;, StandardScaler(),\n",
       "                                 [&#x27;danceability&#x27;, &#x27;energy&#x27;, &#x27;key&#x27;, &#x27;loudness&#x27;,\n",
       "                                  &#x27;speechiness&#x27;, &#x27;acousticness&#x27;,\n",
       "                                  &#x27;instrumentalness&#x27;, &#x27;liveness&#x27;, &#x27;valence&#x27;])])</pre></div></div></div><div class=\"sk-parallel\"><div class=\"sk-parallel-item\"><div class=\"sk-item\"><div class=\"sk-label-container\"><div class=\"sk-label sk-toggleable\"><input class=\"sk-toggleable__control sk-hidden--visually\" id=\"sk-estimator-id-3\" type=\"checkbox\" ><label for=\"sk-estimator-id-3\" class=\"sk-toggleable__label sk-toggleable__label-arrow\">numerical</label><div class=\"sk-toggleable__content\"><pre>[&#x27;danceability&#x27;, &#x27;energy&#x27;, &#x27;key&#x27;, &#x27;loudness&#x27;, &#x27;speechiness&#x27;, &#x27;acousticness&#x27;, &#x27;instrumentalness&#x27;, &#x27;liveness&#x27;, &#x27;valence&#x27;]</pre></div></div></div><div class=\"sk-serial\"><div class=\"sk-item\"><div class=\"sk-estimator sk-toggleable\"><input class=\"sk-toggleable__control sk-hidden--visually\" id=\"sk-estimator-id-4\" type=\"checkbox\" ><label for=\"sk-estimator-id-4\" class=\"sk-toggleable__label sk-toggleable__label-arrow\">StandardScaler</label><div class=\"sk-toggleable__content\"><pre>StandardScaler()</pre></div></div></div></div></div></div><div class=\"sk-parallel-item\"><div class=\"sk-item\"><div class=\"sk-label-container\"><div class=\"sk-label sk-toggleable\"><input class=\"sk-toggleable__control sk-hidden--visually\" id=\"sk-estimator-id-5\" type=\"checkbox\" ><label for=\"sk-estimator-id-5\" class=\"sk-toggleable__label sk-toggleable__label-arrow\">remainder</label><div class=\"sk-toggleable__content\"><pre>[]</pre></div></div></div><div class=\"sk-serial\"><div class=\"sk-item\"><div class=\"sk-estimator sk-toggleable\"><input class=\"sk-toggleable__control sk-hidden--visually\" id=\"sk-estimator-id-6\" type=\"checkbox\" ><label for=\"sk-estimator-id-6\" class=\"sk-toggleable__label sk-toggleable__label-arrow\">passthrough</label><div class=\"sk-toggleable__content\"><pre>passthrough</pre></div></div></div></div></div></div></div></div><div class=\"sk-item\"><div class=\"sk-estimator sk-toggleable\"><input class=\"sk-toggleable__control sk-hidden--visually\" id=\"sk-estimator-id-7\" type=\"checkbox\" ><label for=\"sk-estimator-id-7\" class=\"sk-toggleable__label sk-toggleable__label-arrow\">GradientBoostingClassifier</label><div class=\"sk-toggleable__content\"><pre>GradientBoostingClassifier()</pre></div></div></div></div></div></div></div>"
      ],
      "text/plain": [
       "Pipeline(steps=[('preprocessing',\n",
       "                 ColumnTransformer(remainder='passthrough',\n",
       "                                   transformers=[('numerical', StandardScaler(),\n",
       "                                                  ['danceability', 'energy',\n",
       "                                                   'key', 'loudness',\n",
       "                                                   'speechiness',\n",
       "                                                   'acousticness',\n",
       "                                                   'instrumentalness',\n",
       "                                                   'liveness', 'valence'])])),\n",
       "                ('model', GradientBoostingClassifier())])"
      ]
     },
     "execution_count": 7,
     "metadata": {},
     "output_type": "execute_result"
    }
   ],
   "source": [
    "#The preprocessing and model stages are packed within a pipeline\n",
    "from sklearn.pipeline import Pipeline\n",
    "\n",
    "final_pipeline = Pipeline([\n",
    "('preprocessing',column_transformer),\n",
    "('model',model)\n",
    "])\n",
    "\n",
    "#THe model is fit on all data (There is another project where I go around and evaluate different model's performace. For this project's scope, we can saely go with GBT)\n",
    "final_pipeline.fit(X,y)"
   ]
  },
  {
   "cell_type": "code",
   "execution_count": 34,
   "metadata": {},
   "outputs": [
    {
     "data": {
      "text/html": [
       "<div>\n",
       "<style scoped>\n",
       "    .dataframe tbody tr th:only-of-type {\n",
       "        vertical-align: middle;\n",
       "    }\n",
       "\n",
       "    .dataframe tbody tr th {\n",
       "        vertical-align: top;\n",
       "    }\n",
       "\n",
       "    .dataframe thead th {\n",
       "        text-align: right;\n",
       "    }\n",
       "</style>\n",
       "<table border=\"1\" class=\"dataframe\">\n",
       "  <thead>\n",
       "    <tr style=\"text-align: right;\">\n",
       "      <th></th>\n",
       "      <th>danceability</th>\n",
       "      <th>energy</th>\n",
       "      <th>key</th>\n",
       "      <th>loudness</th>\n",
       "      <th>speechiness</th>\n",
       "      <th>acousticness</th>\n",
       "      <th>instrumentalness</th>\n",
       "      <th>liveness</th>\n",
       "      <th>valence</th>\n",
       "    </tr>\n",
       "  </thead>\n",
       "  <tbody>\n",
       "    <tr>\n",
       "      <th>0</th>\n",
       "      <td>0.665</td>\n",
       "      <td>0.469</td>\n",
       "      <td>4</td>\n",
       "      <td>-5.809</td>\n",
       "      <td>0.028</td>\n",
       "      <td>0.23</td>\n",
       "      <td>0.0</td>\n",
       "      <td>0.234</td>\n",
       "      <td>0.383</td>\n",
       "    </tr>\n",
       "  </tbody>\n",
       "</table>\n",
       "</div>"
      ],
      "text/plain": [
       "   danceability  energy  key  loudness  speechiness  acousticness  \\\n",
       "0         0.665   0.469    4    -5.809        0.028          0.23   \n",
       "\n",
       "   instrumentalness  liveness  valence  \n",
       "0               0.0     0.234    0.383  "
      ]
     },
     "execution_count": 34,
     "metadata": {},
     "output_type": "execute_result"
    }
   ],
   "source": [
    "#Some mock test data is defined\n",
    "test = [[0.665,0.469,4,-5.809,0.0280,0.230,0.0,0.2340,0.383]]\n",
    "\n",
    "#Which is then transformed into a dataframe (this si required due to the columns transformer way of doing things)\n",
    "test_df =pd.DataFrame(test)\n",
    "test_df.columns=['danceability', 'energy',\n",
    "       'key', 'loudness', 'speechiness', 'acousticness', 'instrumentalness',\n",
    "       'liveness', 'valence']\n",
    "test_df"
   ]
  },
  {
   "cell_type": "code",
   "execution_count": 35,
   "metadata": {},
   "outputs": [
    {
     "data": {
      "text/plain": [
       "0"
      ]
     },
     "execution_count": 35,
     "metadata": {},
     "output_type": "execute_result"
    }
   ],
   "source": [
    "#We get the prediction for that data\n",
    "result = final_pipeline.predict(test_df)\n",
    "result[0]"
   ]
  },
  {
   "cell_type": "code",
   "execution_count": 36,
   "metadata": {},
   "outputs": [
    {
     "data": {
      "text/plain": [
       "0.9774234712705926"
      ]
     },
     "execution_count": 36,
     "metadata": {},
     "output_type": "execute_result"
    }
   ],
   "source": [
    "#As well as the assocaited probability\n",
    "import numpy as np\n",
    "final_pipeline.predict_proba(test_df)[0][np.argmax(final_pipeline.predict_proba(test_df)[0])]"
   ]
  },
  {
   "cell_type": "code",
   "execution_count": 21,
   "metadata": {},
   "outputs": [
    {
     "data": {
      "text/plain": [
       "['SpotifyModel.joblib']"
      ]
     },
     "execution_count": 21,
     "metadata": {},
     "output_type": "execute_result"
    }
   ],
   "source": [
    "#Since we are happy with this, we dump the pipeline as a joblib object\n",
    "from joblib import dump, load\n",
    "dump(final_pipeline,'SpotifyModel.joblib')"
   ]
  },
  {
   "cell_type": "code",
   "execution_count": null,
   "metadata": {},
   "outputs": [],
   "source": []
  }
 ],
 "metadata": {
  "kernelspec": {
   "display_name": "Python 3.9.1 64-bit",
   "language": "python",
   "name": "python3"
  },
  "language_info": {
   "codemirror_mode": {
    "name": "ipython",
    "version": 3
   },
   "file_extension": ".py",
   "mimetype": "text/x-python",
   "name": "python",
   "nbconvert_exporter": "python",
   "pygments_lexer": "ipython3",
   "version": "3.9.1"
  },
  "orig_nbformat": 4,
  "vscode": {
   "interpreter": {
    "hash": "fefe1bf480c11bf003fba226430f9cc6591c2a11b0f80c22005b6e46c2183a03"
   }
  }
 },
 "nbformat": 4,
 "nbformat_minor": 2
}
